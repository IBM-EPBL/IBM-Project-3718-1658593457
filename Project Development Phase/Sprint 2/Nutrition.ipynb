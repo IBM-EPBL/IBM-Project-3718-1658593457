{
  "nbformat": 4,
  "nbformat_minor": 0,
  "metadata": {
    "colab": {
      "provenance": [],
      "collapsed_sections": []
    },
    "kernelspec": {
      "name": "python3",
      "display_name": "Python 3"
    },
    "language_info": {
      "name": "python"
    }
  },
  "cells": [
    {
      "cell_type": "code",
      "execution_count": null,
      "metadata": {
        "id": "S5D0Ys3sMId5",
        "colab": {
          "base_uri": "https://localhost:8080/"
        },
        "outputId": "cae29894-ac7c-420c-ebd1-6437798e752a"
      },
      "outputs": [
        {
          "output_type": "stream",
          "name": "stdout",
          "text": [
            "\u001b[0m\u001b[01;34mdrive\u001b[0m/  \u001b[01;34msample_data\u001b[0m/\n"
          ]
        }
      ],
      "source": [
        "ls"
      ]
    },
    {
      "cell_type": "code",
      "source": [
        "cd /content/drive/MyDrive/CNN-IBM"
      ],
      "metadata": {
        "colab": {
          "base_uri": "https://localhost:8080/"
        },
        "id": "mFJWnnMEN_GT",
        "outputId": "3da8a07a-530e-4663-803c-ec9b78eb944f"
      },
      "execution_count": null,
      "outputs": [
        {
          "output_type": "stream",
          "name": "stdout",
          "text": [
            "/content/drive/MyDrive/CNN-IBM\n"
          ]
        }
      ]
    },
    {
      "cell_type": "code",
      "source": [
        "pwd"
      ],
      "metadata": {
        "colab": {
          "base_uri": "https://localhost:8080/",
          "height": 38
        },
        "id": "-whGlw5fOF6O",
        "outputId": "e7aaaf14-92dc-4bf9-b80d-16d686f4fb64"
      },
      "execution_count": null,
      "outputs": [
        {
          "output_type": "execute_result",
          "data": {
            "text/plain": [
              "'/content/drive/MyDrive/CNN-IBM'"
            ],
            "application/vnd.google.colaboratory.intrinsic+json": {
              "type": "string"
            }
          },
          "metadata": {},
          "execution_count": 4
        }
      ]
    },
    {
      "cell_type": "markdown",
      "source": [
        "Import the ImageDataGenerator library"
      ],
      "metadata": {
        "id": "Pdzd-XI6Sz_i"
      }
    },
    {
      "cell_type": "code",
      "source": [
        "from tensorflow.keras.preprocessing.image import ImageDataGenerator "
      ],
      "metadata": {
        "id": "z6DhTOj7S2Dj"
      },
      "execution_count": 35,
      "outputs": []
    },
    {
      "cell_type": "markdown",
      "source": [
        "Configure ImageDataGenerator Class"
      ],
      "metadata": {
        "id": "eOnKUV-4TDE7"
      }
    },
    {
      "cell_type": "code",
      "source": [
        "train_datagen=ImageDataGenerator(rescale=1./255,zoom_range=0.2,vertical_flip=True,horizontal_flip=True) "
      ],
      "metadata": {
        "id": "UiCtzH-7TEnd"
      },
      "execution_count": 36,
      "outputs": []
    },
    {
      "cell_type": "code",
      "source": [
        "test_data=ImageDataGenerator(rescale=1./255)"
      ],
      "metadata": {
        "id": "VwVUvs9wTPKI"
      },
      "execution_count": null,
      "outputs": []
    },
    {
      "cell_type": "markdown",
      "source": [
        "Apply ImageDataGenerator functionality to trainset and testset"
      ],
      "metadata": {
        "id": "yOZ7ELLoUAaV"
      }
    },
    {
      "cell_type": "code",
      "source": [
        "x_train=train_datagen.flow_from_directory(r\"/content/drive/MyDrive/CNN-IBM/Dataset/TRAIN_SET\",target_size=(64,64),class_mode=\"categorical\",batch_size=128)"
      ],
      "metadata": {
        "colab": {
          "base_uri": "https://localhost:8080/"
        },
        "id": "pouBSpNsUCNv",
        "outputId": "97f7fa57-0ecc-4dab-e370-9070cda13d93"
      },
      "execution_count": 86,
      "outputs": [
        {
          "output_type": "stream",
          "name": "stdout",
          "text": [
            "Found 4118 images belonging to 5 classes.\n"
          ]
        }
      ]
    },
    {
      "cell_type": "code",
      "source": [
        "x_test=test_data.flow_from_directory(r\"/content/drive/MyDrive/CNN-IBM/Dataset/TEST_SET\",target_size=(64,64),class_mode=\"categorical\",batch_size=128)"
      ],
      "metadata": {
        "colab": {
          "base_uri": "https://localhost:8080/"
        },
        "id": "mesI4KsWYeBl",
        "outputId": "308ca950-7e17-4fe4-87ce-099e27cf2c7d"
      },
      "execution_count": 87,
      "outputs": [
        {
          "output_type": "stream",
          "name": "stdout",
          "text": [
            "Found 929 images belonging to 5 classes.\n"
          ]
        }
      ]
    },
    {
      "cell_type": "code",
      "source": [
        "x_train.class_indices"
      ],
      "metadata": {
        "colab": {
          "base_uri": "https://localhost:8080/"
        },
        "id": "qpSf7YIAZL5h",
        "outputId": "b75484cc-c549-4cd5-efc3-ebdf80eb23c8"
      },
      "execution_count": 88,
      "outputs": [
        {
          "output_type": "execute_result",
          "data": {
            "text/plain": [
              "{'APPLES': 0, 'BANANA': 1, 'ORANGE': 2, 'PINEAPPLE': 3, 'WATERMELON': 4}"
            ]
          },
          "metadata": {},
          "execution_count": 88
        }
      ]
    },
    {
      "cell_type": "markdown",
      "source": [
        "MODEL BUILDING"
      ],
      "metadata": {
        "id": "1qGLoVikaDEl"
      }
    },
    {
      "cell_type": "markdown",
      "source": [
        "Import the libraries"
      ],
      "metadata": {
        "id": "p8xdEjeSaHQP"
      }
    },
    {
      "cell_type": "code",
      "source": [
        "from tensorflow.keras.models import Sequential\n",
        "from tensorflow.keras.layers import Dense,Convolution2D,MaxPooling2D,Flatten"
      ],
      "metadata": {
        "id": "TYZdRHzjaJI_"
      },
      "execution_count": 89,
      "outputs": []
    },
    {
      "cell_type": "markdown",
      "source": [
        "Initialize the model"
      ],
      "metadata": {
        "id": "3DBpuTLIa_sm"
      }
    },
    {
      "cell_type": "code",
      "source": [
        "model=Sequential()"
      ],
      "metadata": {
        "id": "U5gtjG0HbEaw"
      },
      "execution_count": 90,
      "outputs": []
    },
    {
      "cell_type": "markdown",
      "source": [
        "Adding CNN layers"
      ],
      "metadata": {
        "id": "lmnQHTMRb44A"
      }
    },
    {
      "cell_type": "code",
      "source": [
        "model.add(Convolution2D(32,(3,3),activation=\"relu\",strides=(1,1),input_shape=(64,64,3)))"
      ],
      "metadata": {
        "id": "h_FYoYHcb8iZ"
      },
      "execution_count": 94,
      "outputs": []
    },
    {
      "cell_type": "code",
      "source": [
        "model.add(MaxPooling2D(pool_size=(2,2)))"
      ],
      "metadata": {
        "id": "w7l6ajxxei4I"
      },
      "execution_count": 95,
      "outputs": []
    },
    {
      "cell_type": "code",
      "source": [
        "model.add(Flatten())"
      ],
      "metadata": {
        "id": "VLyEIGOIeqMl"
      },
      "execution_count": 96,
      "outputs": []
    },
    {
      "cell_type": "code",
      "source": [
        "model.summary()"
      ],
      "metadata": {
        "colab": {
          "base_uri": "https://localhost:8080/"
        },
        "id": "3aPdxV0iexLj",
        "outputId": "d4b87015-9b1d-4365-9a5a-e44cd268d76b"
      },
      "execution_count": 97,
      "outputs": [
        {
          "output_type": "stream",
          "name": "stdout",
          "text": [
            "Model: \"sequential_2\"\n",
            "_________________________________________________________________\n",
            " Layer (type)                Output Shape              Param #   \n",
            "=================================================================\n",
            " conv2d_2 (Conv2D)           (None, 62, 62, 32)        896       \n",
            "                                                                 \n",
            " conv2d_3 (Conv2D)           (None, 60, 60, 32)        9248      \n",
            "                                                                 \n",
            " max_pooling2d_3 (MaxPooling  (None, 30, 30, 32)       0         \n",
            " 2D)                                                             \n",
            "                                                                 \n",
            " flatten_2 (Flatten)         (None, 28800)             0         \n",
            "                                                                 \n",
            "=================================================================\n",
            "Total params: 10,144\n",
            "Trainable params: 10,144\n",
            "Non-trainable params: 0\n",
            "_________________________________________________________________\n"
          ]
        }
      ]
    },
    {
      "cell_type": "markdown",
      "source": [
        "Adding Dense layer"
      ],
      "metadata": {
        "id": "6pUQJmOsog_A"
      }
    },
    {
      "cell_type": "markdown",
      "source": [
        "Hidden layer"
      ],
      "metadata": {
        "id": "LCQ55EIhokMf"
      }
    },
    {
      "cell_type": "code",
      "source": [
        "model.add(Dense(500,activation=\"relu\"))"
      ],
      "metadata": {
        "id": "rfPnUEs0oold"
      },
      "execution_count": 98,
      "outputs": []
    },
    {
      "cell_type": "code",
      "source": [
        "model.add(Dense(500,activation=\"relu\"))"
      ],
      "metadata": {
        "id": "jN8-DpS5q5Mo"
      },
      "execution_count": 99,
      "outputs": []
    },
    {
      "cell_type": "markdown",
      "source": [
        "Output layer"
      ],
      "metadata": {
        "id": "EEfDjdkCrDG0"
      }
    },
    {
      "cell_type": "code",
      "source": [
        "model.add(Dense(6,activation=\"softmax\"))"
      ],
      "metadata": {
        "id": "SILYK8mGrEdC"
      },
      "execution_count": 100,
      "outputs": []
    },
    {
      "cell_type": "markdown",
      "source": [
        "Configure the learning process"
      ],
      "metadata": {
        "id": "MrDGGfB3rjMV"
      }
    },
    {
      "cell_type": "code",
      "source": [
        "model.compile(loss=\"categorical_crossentropy\",optimizer=\"adam\",metrics=['accuracy'])"
      ],
      "metadata": {
        "id": "8SZpPVykrkZK"
      },
      "execution_count": 101,
      "outputs": []
    },
    {
      "cell_type": "code",
      "source": [
        "len(x_train)"
      ],
      "metadata": {
        "colab": {
          "base_uri": "https://localhost:8080/"
        },
        "id": "j31BxeIVsZ3r",
        "outputId": "6d7a49af-5b2a-4cd5-8dbe-a21c64486615"
      },
      "execution_count": 104,
      "outputs": [
        {
          "output_type": "execute_result",
          "data": {
            "text/plain": [
              "33"
            ]
          },
          "metadata": {},
          "execution_count": 104
        }
      ]
    },
    {
      "cell_type": "markdown",
      "source": [
        "Train the model"
      ],
      "metadata": {
        "id": "IdXBUlXduGSC"
      }
    },
    {
      "cell_type": "code",
      "source": [
        "model.fit(x_train,epochs=5,steps_per_epoch=len(x_train),validation_data=x_test,validation_steps=len(x_test))"
      ],
      "metadata": {
        "id": "T9IyHk0KxHSd"
      },
      "execution_count": null,
      "outputs": []
    },
    {
      "cell_type": "markdown",
      "source": [
        "Save the model"
      ],
      "metadata": {
        "id": "W4pO9AsAPnZZ"
      }
    },
    {
      "cell_type": "code",
      "source": [
        "model.save('nutrition.h5')"
      ],
      "metadata": {
        "id": "M6JZtqXCPo6w"
      },
      "execution_count": 111,
      "outputs": []
    },
    {
      "cell_type": "code",
      "source": [
        "from tensorflow.keras.models import load_model"
      ],
      "metadata": {
        "id": "HJv7kqW4P62O"
      },
      "execution_count": 112,
      "outputs": []
    },
    {
      "cell_type": "code",
      "source": [
        "model=load_model('nutrition.h5')"
      ],
      "metadata": {
        "id": "BW109QWlQkb4"
      },
      "execution_count": 113,
      "outputs": []
    },
    {
      "cell_type": "markdown",
      "source": [
        "Testing the model"
      ],
      "metadata": {
        "id": "gOV4piT_RQEt"
      }
    },
    {
      "cell_type": "code",
      "source": [
        "import numpy as np\n",
        "from tensorflow.keras.models import load_model\n",
        "from tensorflow.keras.preprocessing import image"
      ],
      "metadata": {
        "id": "t8yxdN0tRS4k"
      },
      "execution_count": 114,
      "outputs": []
    },
    {
      "cell_type": "code",
      "source": [
        "model=load_model('nutrition.h5')"
      ],
      "metadata": {
        "id": "ZuAEsTqbRZqB"
      },
      "execution_count": 115,
      "outputs": []
    },
    {
      "cell_type": "code",
      "source": [
        "img=image.load_img(\"/content/drive/MyDrive/CNN-IBM/Dataset/TRAIN_SET/ORANGE/n07749192_1008.jpg\",target_size=(64,64))"
      ],
      "metadata": {
        "id": "1OnU28jMRjzv"
      },
      "execution_count": 118,
      "outputs": []
    },
    {
      "cell_type": "code",
      "source": [
        "img"
      ],
      "metadata": {
        "colab": {
          "base_uri": "https://localhost:8080/",
          "height": 81
        },
        "id": "_ysv5oSQS_8y",
        "outputId": "c3ad170c-14a7-4b1f-f82f-baefad158a95"
      },
      "execution_count": 119,
      "outputs": [
        {
          "output_type": "execute_result",
          "data": {
            "text/plain": [
              "<PIL.Image.Image image mode=RGB size=64x64 at 0x7FC6C5F055D0>"
            ],
            "image/png": "[encoded data removed]"
          },
          "metadata": {},
          "execution_count": 119
        }
      ]
    },
    {
      "cell_type": "code",
      "source": [
        "x=image.img_to_array(img)"
      ],
      "metadata": {
        "id": "mcbdosQ1TLck"
      },
      "execution_count": 120,
      "outputs": []
    },
    {
      "cell_type": "code",
      "source": [
        "x"
      ],
      "metadata": {
        "colab": {
          "base_uri": "https://localhost:8080/"
        },
        "id": "DnZ4EqSUTRS9",
        "outputId": "9f8cda30-f67e-4066-e8a2-253f48dc5af1"
      },
      "execution_count": 121,
      "outputs": [
        {
          "output_type": "execute_result",
          "data": {
            "text/plain": [
              "array([[[ 51.,  23.,  19.],\n",
              "        [ 52.,  22.,  20.],\n",
              "        [ 52.,  24.,  21.],\n",
              "        ...,\n",
              "        [ 36.,  33.,  28.],\n",
              "        [ 41.,  38.,  33.],\n",
              "        [ 38.,  39.,  31.]],\n",
              "\n",
              "       [[ 50.,  25.,  21.],\n",
              "        [ 56.,  25.,  22.],\n",
              "        [ 60.,  26.,  24.],\n",
              "        ...,\n",
              "        [ 35.,  34.,  29.],\n",
              "        [ 40.,  37.,  32.],\n",
              "        [ 31.,  32.,  24.]],\n",
              "\n",
              "       [[ 55.,  24.,  22.],\n",
              "        [ 59.,  25.,  23.],\n",
              "        [ 61.,  30.,  27.],\n",
              "        ...,\n",
              "        [ 52.,  52.,  40.],\n",
              "        [ 46.,  48.,  37.],\n",
              "        [ 51.,  49.,  37.]],\n",
              "\n",
              "       ...,\n",
              "\n",
              "       [[  7.,   7.,   5.],\n",
              "        [  8.,   8.,   8.],\n",
              "        [ 10.,   8.,   9.],\n",
              "        ...,\n",
              "        [113.,  41.,  42.],\n",
              "        [110.,  39.,  37.],\n",
              "        [109.,  38.,  44.]],\n",
              "\n",
              "       [[  8.,   8.,   8.],\n",
              "        [  9.,   7.,   8.],\n",
              "        [  9.,   9.,   9.],\n",
              "        ...,\n",
              "        [101.,  40.,  39.],\n",
              "        [107.,  37.,  37.],\n",
              "        [107.,  37.,  39.]],\n",
              "\n",
              "       [[  7.,   7.,   7.],\n",
              "        [  7.,   7.,   7.],\n",
              "        [  9.,   9.,   9.],\n",
              "        ...,\n",
              "        [103.,  41.,  44.],\n",
              "        [104.,  35.,  38.],\n",
              "        [102.,  36.,  38.]]], dtype=float32)"
            ]
          },
          "metadata": {},
          "execution_count": 121
        }
      ]
    },
    {
      "cell_type": "code",
      "source": [
        "x=np.expand_dims(x,axis=0)"
      ],
      "metadata": {
        "id": "nbqJ4G0aTZ9W"
      },
      "execution_count": 122,
      "outputs": []
    },
    {
      "cell_type": "code",
      "source": [
        "x"
      ],
      "metadata": {
        "colab": {
          "base_uri": "https://localhost:8080/"
        },
        "id": "YC4ukCjyTd9w",
        "outputId": "1b694ebd-0681-44ec-e928-fc48f1bbb934"
      },
      "execution_count": 123,
      "outputs": [
        {
          "output_type": "execute_result",
          "data": {
            "text/plain": [
              "array([[[[ 51.,  23.,  19.],\n",
              "         [ 52.,  22.,  20.],\n",
              "         [ 52.,  24.,  21.],\n",
              "         ...,\n",
              "         [ 36.,  33.,  28.],\n",
              "         [ 41.,  38.,  33.],\n",
              "         [ 38.,  39.,  31.]],\n",
              "\n",
              "        [[ 50.,  25.,  21.],\n",
              "         [ 56.,  25.,  22.],\n",
              "         [ 60.,  26.,  24.],\n",
              "         ...,\n",
              "         [ 35.,  34.,  29.],\n",
              "         [ 40.,  37.,  32.],\n",
              "         [ 31.,  32.,  24.]],\n",
              "\n",
              "        [[ 55.,  24.,  22.],\n",
              "         [ 59.,  25.,  23.],\n",
              "         [ 61.,  30.,  27.],\n",
              "         ...,\n",
              "         [ 52.,  52.,  40.],\n",
              "         [ 46.,  48.,  37.],\n",
              "         [ 51.,  49.,  37.]],\n",
              "\n",
              "        ...,\n",
              "\n",
              "        [[  7.,   7.,   5.],\n",
              "         [  8.,   8.,   8.],\n",
              "         [ 10.,   8.,   9.],\n",
              "         ...,\n",
              "         [113.,  41.,  42.],\n",
              "         [110.,  39.,  37.],\n",
              "         [109.,  38.,  44.]],\n",
              "\n",
              "        [[  8.,   8.,   8.],\n",
              "         [  9.,   7.,   8.],\n",
              "         [  9.,   9.,   9.],\n",
              "         ...,\n",
              "         [101.,  40.,  39.],\n",
              "         [107.,  37.,  37.],\n",
              "         [107.,  37.,  39.]],\n",
              "\n",
              "        [[  7.,   7.,   7.],\n",
              "         [  7.,   7.,   7.],\n",
              "         [  9.,   9.,   9.],\n",
              "         ...,\n",
              "         [103.,  41.,  44.],\n",
              "         [104.,  35.,  38.],\n",
              "         [102.,  36.,  38.]]]], dtype=float32)"
            ]
          },
          "metadata": {},
          "execution_count": 123
        }
      ]
    },
    {
      "cell_type": "code",
      "source": [
        "pred=model.predict(x)"
      ],
      "metadata": {
        "colab": {
          "base_uri": "https://localhost:8080/"
        },
        "id": "OSHEde1jTrbQ",
        "outputId": "cc0e9488-2f10-45e0-9c08-e6a582fc73c9"
      },
      "execution_count": 124,
      "outputs": [
        {
          "output_type": "stream",
          "name": "stdout",
          "text": [
            "1/1 [==============================] - 0s 124ms/step\n"
          ]
        }
      ]
    },
    {
      "cell_type": "code",
      "source": [
        "pred"
      ],
      "metadata": {
        "colab": {
          "base_uri": "https://localhost:8080/"
        },
        "id": "QrSTTy-2TxQL",
        "outputId": "a6c6bbdc-2320-4de6-8ad8-aeba623e86cb"
      },
      "execution_count": 125,
      "outputs": [
        {
          "output_type": "execute_result",
          "data": {
            "text/plain": [
              "array([[3.0380558e-15, 8.5699292e-13, 9.9998498e-01, 5.6462517e-07,\n",
              "        1.4380068e-05, 3.1803251e-21]], dtype=float32)"
            ]
          },
          "metadata": {},
          "execution_count": 125
        }
      ]
    },
    {
      "cell_type": "code",
      "source": [
        "index=['APPLES','BANANA','ORANGE','WATERMELON','PINEAPPLE']"
      ],
      "metadata": {
        "id": "XOimIYn4UAtB"
      },
      "execution_count": 126,
      "outputs": []
    },
    {
      "cell_type": "code",
      "source": [
        "index[np.argmax(pred)]"
      ],
      "metadata": {
        "colab": {
          "base_uri": "https://localhost:8080/",
          "height": 37
        },
        "id": "7-o2JSdHeE_v",
        "outputId": "7702c198-45ea-4ba0-81d1-5321b1b7c5a4"
      },
      "execution_count": 127,
      "outputs": [
        {
          "output_type": "execute_result",
          "data": {
            "text/plain": [
              "'ORANGE'"
            ],
            "application/vnd.google.colaboratory.intrinsic+json": {
              "type": "string"
            }
          },
          "metadata": {},
          "execution_count": 127
        }
      ]
    }
  ]
}